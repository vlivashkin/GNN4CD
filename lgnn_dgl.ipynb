{
 "cells": [
  {
   "cell_type": "code",
   "execution_count": 1,
   "metadata": {},
   "outputs": [
    {
     "name": "stderr",
     "output_type": "stream",
     "text": [
      "Using backend: pytorch\n"
     ]
    }
   ],
   "source": [
    "from time import gmtime, strftime\n",
    "import matplotlib.pyplot as plt\n",
    "%matplotlib inline\n",
    "\n",
    "import numpy as np\n",
    "import torch\n",
    "import torch.nn as nn\n",
    "from munch import munchify\n",
    "from torch.utils.data import DataLoader\n",
    "from torch.utils.tensorboard import SummaryWriter\n",
    "from tqdm.notebook import tqdm\n",
    "\n",
    "from data.sbm_dgl import SBM_Dataset_LGNN_DGL\n",
    "from models.lgnn_dgl import LGNN\n",
    "from models.losses import combinatorical_accuracy, ari_score, combinatorical_cce"
   ]
  },
  {
   "cell_type": "code",
   "execution_count": 6,
   "metadata": {},
   "outputs": [
    {
     "name": "stderr",
     "output_type": "stream",
     "text": [
      "  0%|          | 0/500 [00:00<?, ?it/s]"
     ]
    },
    {
     "name": "stdout",
     "output_type": "stream",
     "text": [
      "sizes: [50, 50], p: [[0.2, 0.1], [0.1, 0.2]]\n"
     ]
    },
    {
     "name": "stderr",
     "output_type": "stream",
     "text": [
      "100%|██████████| 500/500 [00:29<00:00, 16.90it/s]\n"
     ]
    }
   ],
   "source": [
    "device = torch.device('cuda:0')\n",
    "args = munchify({\n",
    "    'clip_grad_norm': 40.0,\n",
    "    'num_features': 8,\n",
    "    'num_layers': 30,\n",
    "    'n_classes': 2,\n",
    "    'J': 2,\n",
    "    'lr': 0.004\n",
    "})\n",
    "\n",
    "n, k, p_in, p_out = 100, args.n_classes, 0.2, 0.1\n",
    "n_epoch, n_samples_train, n_samples_test = 3, 500, 100\n",
    "train_dataset = SBM_Dataset_LGNN_DGL(n, k, p_in, p_out, n_graphs=n_samples_train, verbose=True)\n",
    "test_dataset = SBM_Dataset_LGNN_DGL(n, k, p_in, p_out, n_graphs=n_samples_test)\n",
    "train_dataloader = DataLoader(train_dataset, batch_size=1, collate_fn=train_dataset.collate_fn)\n",
    "test_dataloader = DataLoader(test_dataset, batch_size=1, collate_fn=train_dataset.collate_fn)"
   ]
  },
  {
   "cell_type": "code",
   "execution_count": 7,
   "metadata": {},
   "outputs": [],
   "source": [
    "G, G_lg, P, labels = train_dataset[0]"
   ]
  },
  {
   "cell_type": "code",
   "execution_count": 8,
   "metadata": {},
   "outputs": [],
   "source": [
    "torch.backends.cudnn.enabled = False\n",
    "model = LGNN(args.num_features, args.num_layers, args.J, n_classes=args.n_classes).to(device)\n",
    "optimizer = torch.optim.Adamax(model.parameters(), lr=args.lr)"
   ]
  },
  {
   "cell_type": "code",
   "execution_count": 9,
   "metadata": {},
   "outputs": [
    {
     "data": {
      "application/vnd.jupyter.widget-view+json": {
       "model_id": "d11c48437fed4db9bc18681e020f54f5",
       "version_major": 2,
       "version_minor": 0
      },
      "text/plain": [
       "HBox(children=(IntProgress(value=0, description='0', max=500, style=ProgressStyle(description_width='initial')…"
      ]
     },
     "metadata": {},
     "output_type": "display_data"
    },
    {
     "name": "stdout",
     "output_type": "stream",
     "text": [
      "\n"
     ]
    },
    {
     "data": {
      "application/vnd.jupyter.widget-view+json": {
       "model_id": "764762d3bfbf4c38ba34b24a32815808",
       "version_major": 2,
       "version_minor": 0
      },
      "text/plain": [
       "HBox(children=(IntProgress(value=0, description='1', max=500, style=ProgressStyle(description_width='initial')…"
      ]
     },
     "metadata": {},
     "output_type": "display_data"
    },
    {
     "name": "stdout",
     "output_type": "stream",
     "text": [
      "\n"
     ]
    },
    {
     "data": {
      "application/vnd.jupyter.widget-view+json": {
       "model_id": "291ca926110445de8c1b00b22466dcea",
       "version_major": 2,
       "version_minor": 0
      },
      "text/plain": [
       "HBox(children=(IntProgress(value=0, description='2', max=500, style=ProgressStyle(description_width='initial')…"
      ]
     },
     "metadata": {},
     "output_type": "display_data"
    },
    {
     "name": "stdout",
     "output_type": "stream",
     "text": [
      "\n"
     ]
    }
   ],
   "source": [
    "name = f'lgnn_dgl-SBM({n}, {k}, {p_in:.2f}, {p_out:.2f})'\n",
    "writer = SummaryWriter(f'./logs/{strftime(\"%Y-%m-%d %H:%M:%S\", gmtime())} {name}')\n",
    "for epoch in range(n_epoch):\n",
    "    model.train()\n",
    "    for it, (G, G_lg, P, labels) in enumerate(tqdm(train_dataloader, desc=str(epoch))):\n",
    "        G, G_lg, P, labels = G.to(device), G_lg.to(device), P.float().to(device), labels.long().to(device)[None]\n",
    "        pred = model(G, G_lg, P)[None]\n",
    "\n",
    "        loss = combinatorical_cce(pred, labels)\n",
    "        optimizer.zero_grad()\n",
    "        loss.backward()\n",
    "        nn.utils.clip_grad_norm_(model.parameters(), args.clip_grad_norm)\n",
    "        optimizer.step()\n",
    "\n",
    "        writer.add_scalar('train/loss', loss.item(), epoch * len(train_dataloader) + it)\n",
    "        writer.add_scalar('train/acc', combinatorical_accuracy(pred, labels), epoch * len(train_dataloader) + it)\n",
    "        writer.add_scalar('train/ari', ari_score(pred, labels), epoch * len(train_dataloader) + it)\n",
    "        if it % 100 == 0:\n",
    "            writer.flush()\n",
    "\n",
    "    loss_lst, acc_lst, ari_lst = [], [], []\n",
    "    with torch.no_grad():\n",
    "        for _, (G, G_lg, P, labels) in enumerate(test_dataloader):\n",
    "            G, G_lg, P, labels = G.to(device), G_lg.to(device), P.float().to(device), labels.long().to(device)[None]\n",
    "            pred = model(G, G_lg, P)[None]\n",
    "\n",
    "            loss = combinatorical_cce(pred, labels)\n",
    "            loss_lst.append(loss.item())\n",
    "            acc_lst.append(combinatorical_accuracy(pred, labels))\n",
    "            ari_lst.append(ari_score(pred, labels))\n",
    "    writer.add_scalar('test/loss', np.mean(loss_lst), epoch)\n",
    "    writer.add_scalar('test/acc', np.mean(acc_lst), epoch)\n",
    "    writer.add_scalar('test/ari', np.mean(ari_lst), epoch)\n",
    "    writer.flush()"
   ]
  },
  {
   "cell_type": "code",
   "execution_count": null,
   "metadata": {},
   "outputs": [],
   "source": []
  }
 ],
 "metadata": {
  "kernelspec": {
   "display_name": "Python 3",
   "language": "python",
   "name": "python3"
  },
  "language_info": {
   "codemirror_mode": {
    "name": "ipython",
    "version": 3
   },
   "file_extension": ".py",
   "mimetype": "text/x-python",
   "name": "python",
   "nbconvert_exporter": "python",
   "pygments_lexer": "ipython3",
   "version": "3.6.9"
  }
 },
 "nbformat": 4,
 "nbformat_minor": 4
}
