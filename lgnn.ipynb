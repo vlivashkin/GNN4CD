{
 "cells": [
  {
   "cell_type": "code",
   "execution_count": 1,
   "metadata": {},
   "outputs": [],
   "source": [
    "from time import gmtime, strftime\n",
    "\n",
    "import numpy as np\n",
    "import torch\n",
    "import torch.nn as nn\n",
    "from munch import munchify\n",
    "from torch.utils.data import DataLoader\n",
    "from torch.utils.tensorboard import SummaryWriter\n",
    "from tqdm.notebook import tqdm\n",
    "\n",
    "from data.sbm import SBM_Dataset_LGNN\n",
    "from models.lgnn import LGNN\n",
    "from models.losses import combinatorical_accuracy, ari_score, combinatorical_cce"
   ]
  },
  {
   "cell_type": "code",
   "execution_count": 2,
   "metadata": {},
   "outputs": [],
   "source": [
    "device = 'cuda:0'\n",
    "args = munchify({\n",
    "    'clip_grad_norm': 40.0,\n",
    "    'num_features': 8,\n",
    "    'num_layers': 30,\n",
    "    'n_classes': 2,\n",
    "    'J': 2,\n",
    "    'lr': 0.004\n",
    "})\n",
    "\n",
    "n, k, p_in, p_out = 100, args.n_classes, 0.2, 0.1\n",
    "n_epoch, n_samples_train, n_samples_test = 3, 500, 100\n",
    "train_dataset = SBM_Dataset_LGNN(n, k, p_in, p_out, J=args.J, n_graphs=n_samples_train)\n",
    "test_dataset = SBM_Dataset_LGNN(n, k, p_in, p_out, J=args.J, n_graphs=n_samples_test)\n",
    "train_dataloader = DataLoader(train_dataset, batch_size=1)\n",
    "test_dataloader = DataLoader(test_dataset, batch_size=1)"
   ]
  },
  {
   "cell_type": "code",
   "execution_count": 3,
   "metadata": {},
   "outputs": [],
   "source": [
    "torch.backends.cudnn.enabled = False\n",
    "model = LGNN(args.num_features, args.num_layers, args.J + 2, n_classes=args.n_classes).to(device)\n",
    "optimizer = torch.optim.Adamax(model.parameters(), lr=args.lr)"
   ]
  },
  {
   "cell_type": "code",
   "execution_count": 4,
   "metadata": {},
   "outputs": [
    {
     "name": "stderr",
     "output_type": "stream",
     "text": [
      "0: 100%|██████████| 500/500 [12:05<00:00,  1.45s/it]\n",
      "1: 100%|██████████| 500/500 [07:25<00:00,  1.12it/s]\n",
      "2: 100%|██████████| 500/500 [05:02<00:00,  1.65it/s]\n"
     ]
    }
   ],
   "source": [
    "name = f'lgnn-SBM({n}, {k}, {p_in:.2f}, {p_out:.2f})'\n",
    "writer = SummaryWriter(f'./logs/{strftime(\"%Y-%m-%d %H:%M:%S\", gmtime())} {name}')\n",
    "for epoch in range(n_epoch):\n",
    "    model.train()\n",
    "    for it, (WW, x, WW_lg, y, P, labels) in enumerate(tqdm(train_dataloader, desc=str(epoch))):\n",
    "        WW, x, WW_lg, y, P = [x.float().to(device) for x in (WW, x, WW_lg, y, P)]\n",
    "        labels = labels.long().to(device)\n",
    "        pred = model(WW, x, WW_lg, y, P)\n",
    "\n",
    "        loss = combinatorical_cce(pred, labels)\n",
    "        optimizer.zero_grad()\n",
    "        loss.backward()\n",
    "        nn.utils.clip_grad_norm_(model.parameters(), args.clip_grad_norm)\n",
    "        optimizer.step()\n",
    "\n",
    "        writer.add_scalar('train/loss', loss.item(), epoch * len(train_dataloader) + it)\n",
    "        writer.add_scalar('train/acc', combinatorical_accuracy(pred, labels), epoch * len(train_dataloader) + it)\n",
    "        writer.add_scalar('train/ari', ari_score(pred, labels), epoch * len(train_dataloader) + it)\n",
    "        if it % 100 == 0:\n",
    "            writer.flush()\n",
    "\n",
    "    loss_lst, acc_lst, ari_lst = [], [], []\n",
    "    with torch.no_grad():\n",
    "        for _, (WW, x, WW_lg, y, P, labels) in enumerate(test_dataloader):\n",
    "            WW, x, WW_lg, y, P = [x.float().to(device) for x in (WW, x, WW_lg, y, P)]\n",
    "            labels = labels.long().to(device)\n",
    "            pred = model(WW, x, WW_lg, y, P)\n",
    "\n",
    "            loss = combinatorical_cce(pred, labels)\n",
    "            loss_lst.append(loss.item())\n",
    "            acc_lst.append(combinatorical_accuracy(pred, labels))\n",
    "            ari_lst.append(ari_score(pred, labels))\n",
    "    writer.add_scalar('test/loss', np.mean(loss_lst), epoch)\n",
    "    writer.add_scalar('test/acc', np.mean(acc_lst), epoch)\n",
    "    writer.add_scalar('test/ari', np.mean(ari_lst), epoch)\n",
    "    writer.flush()"
   ]
  },
  {
   "cell_type": "code",
   "execution_count": null,
   "metadata": {},
   "outputs": [],
   "source": []
  }
 ],
 "metadata": {
  "kernelspec": {
   "display_name": "Python 3",
   "language": "python",
   "name": "python3"
  },
  "language_info": {
   "codemirror_mode": {
    "name": "ipython",
    "version": 3
   },
   "file_extension": ".py",
   "mimetype": "text/x-python",
   "name": "python",
   "nbconvert_exporter": "python",
   "pygments_lexer": "ipython3",
   "version": "3.6.9"
  }
 },
 "nbformat": 4,
 "nbformat_minor": 4
}
